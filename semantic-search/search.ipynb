{
 "cells": [
  {
   "attachments": {},
   "cell_type": "markdown",
   "metadata": {},
   "source": [
    "# Semantic search example\n",
    "\n",
    "Taken from https://docs.pinecone.io/docs/semantic-text-search\n",
    "\n",
    "## 1. Install deps\n",
    "\n",
    "Copy pasted in terminal, not running in Jup\n",
    "\n",
    "1. pinecone-client\n",
    "2. datasets: Huggingface dataset library\n",
    "3. sentence-transformers: Models to transform sentences into vectors"
   ]
  },
  {
   "cell_type": "code",
   "execution_count": 4,
   "metadata": {},
   "outputs": [
    {
     "name": "stdout",
     "output_type": "stream",
     "text": [
      "huggingface/tokenizers: The current process just got forked, after parallelism has already been used. Disabling parallelism to avoid deadlocks...\n",
      "To disable this warning, you can either:\n",
      "\t- Avoid using `tokenizers` before the fork if possible\n",
      "\t- Explicitly set the environment variable TOKENIZERS_PARALLELISM=(true | false)\n",
      "Requirement already satisfied: pinecone-client[grpc]==2.2.1 in /home/hp/Documents/projects/pinecone-hack/venv/lib/python3.11/site-packages (2.2.1)\n",
      "Requirement already satisfied: datasets==2.12.0 in /home/hp/Documents/projects/pinecone-hack/venv/lib/python3.11/site-packages (2.12.0)\n",
      "Requirement already satisfied: sentence-transformers==2.2.2 in /home/hp/Documents/projects/pinecone-hack/venv/lib/python3.11/site-packages (2.2.2)\n",
      "Requirement already satisfied: requests>=2.19.0 in /home/hp/Documents/projects/pinecone-hack/venv/lib/python3.11/site-packages (from pinecone-client[grpc]==2.2.1) (2.31.0)\n",
      "Requirement already satisfied: pyyaml>=5.4 in /home/hp/Documents/projects/pinecone-hack/venv/lib/python3.11/site-packages (from pinecone-client[grpc]==2.2.1) (6.0)\n",
      "Requirement already satisfied: loguru>=0.5.0 in /home/hp/Documents/projects/pinecone-hack/venv/lib/python3.11/site-packages (from pinecone-client[grpc]==2.2.1) (0.7.0)\n",
      "Requirement already satisfied: typing-extensions>=3.7.4 in /home/hp/Documents/projects/pinecone-hack/venv/lib/python3.11/site-packages (from pinecone-client[grpc]==2.2.1) (4.6.3)\n",
      "Requirement already satisfied: dnspython>=2.0.0 in /home/hp/Documents/projects/pinecone-hack/venv/lib/python3.11/site-packages (from pinecone-client[grpc]==2.2.1) (2.3.0)\n",
      "Requirement already satisfied: python-dateutil>=2.5.3 in /home/hp/Documents/projects/pinecone-hack/venv/lib/python3.11/site-packages (from pinecone-client[grpc]==2.2.1) (2.8.2)\n",
      "Requirement already satisfied: urllib3>=1.21.1 in /home/hp/Documents/projects/pinecone-hack/venv/lib/python3.11/site-packages (from pinecone-client[grpc]==2.2.1) (2.0.3)\n",
      "Requirement already satisfied: tqdm>=4.64.1 in /home/hp/Documents/projects/pinecone-hack/venv/lib/python3.11/site-packages (from pinecone-client[grpc]==2.2.1) (4.65.0)\n",
      "Requirement already satisfied: numpy in /home/hp/Documents/projects/pinecone-hack/venv/lib/python3.11/site-packages (from pinecone-client[grpc]==2.2.1) (1.25.0)\n",
      "Requirement already satisfied: grpcio>=1.44.0 in /home/hp/Documents/projects/pinecone-hack/venv/lib/python3.11/site-packages (from pinecone-client[grpc]==2.2.1) (1.56.0)\n",
      "Requirement already satisfied: grpc-gateway-protoc-gen-openapiv2==0.1.0 in /home/hp/Documents/projects/pinecone-hack/venv/lib/python3.11/site-packages (from pinecone-client[grpc]==2.2.1) (0.1.0)\n",
      "Requirement already satisfied: googleapis-common-protos>=1.53.0 in /home/hp/Documents/projects/pinecone-hack/venv/lib/python3.11/site-packages (from pinecone-client[grpc]==2.2.1) (1.56.4)\n",
      "Requirement already satisfied: lz4>=3.1.3 in /home/hp/Documents/projects/pinecone-hack/venv/lib/python3.11/site-packages (from pinecone-client[grpc]==2.2.1) (4.3.2)\n",
      "Requirement already satisfied: protobuf==3.19.3 in /home/hp/Documents/projects/pinecone-hack/venv/lib/python3.11/site-packages (from pinecone-client[grpc]==2.2.1) (3.19.3)\n",
      "Requirement already satisfied: pyarrow>=8.0.0 in /home/hp/Documents/projects/pinecone-hack/venv/lib/python3.11/site-packages (from datasets==2.12.0) (12.0.1)\n",
      "Requirement already satisfied: dill<0.3.7,>=0.3.0 in /home/hp/Documents/projects/pinecone-hack/venv/lib/python3.11/site-packages (from datasets==2.12.0) (0.3.6)\n",
      "Requirement already satisfied: pandas in /home/hp/Documents/projects/pinecone-hack/venv/lib/python3.11/site-packages (from datasets==2.12.0) (2.0.2)\n",
      "Requirement already satisfied: xxhash in /home/hp/Documents/projects/pinecone-hack/venv/lib/python3.11/site-packages (from datasets==2.12.0) (3.2.0)\n",
      "Requirement already satisfied: multiprocess in /home/hp/Documents/projects/pinecone-hack/venv/lib/python3.11/site-packages (from datasets==2.12.0) (0.70.14)\n",
      "Requirement already satisfied: fsspec[http]>=2021.11.1 in /home/hp/Documents/projects/pinecone-hack/venv/lib/python3.11/site-packages (from datasets==2.12.0) (2023.6.0)\n",
      "Requirement already satisfied: aiohttp in /home/hp/Documents/projects/pinecone-hack/venv/lib/python3.11/site-packages (from datasets==2.12.0) (3.8.4)\n",
      "Requirement already satisfied: huggingface-hub<1.0.0,>=0.11.0 in /home/hp/Documents/projects/pinecone-hack/venv/lib/python3.11/site-packages (from datasets==2.12.0) (0.15.1)\n",
      "Requirement already satisfied: packaging in /home/hp/Documents/projects/pinecone-hack/venv/lib/python3.11/site-packages (from datasets==2.12.0) (23.1)\n",
      "Requirement already satisfied: responses<0.19 in /home/hp/Documents/projects/pinecone-hack/venv/lib/python3.11/site-packages (from datasets==2.12.0) (0.18.0)\n",
      "Requirement already satisfied: nltk in /home/hp/Documents/projects/pinecone-hack/venv/lib/python3.11/site-packages (from sentence-transformers==2.2.2) (3.8.1)\n",
      "Requirement already satisfied: scikit-learn in /home/hp/Documents/projects/pinecone-hack/venv/lib/python3.11/site-packages (from sentence-transformers==2.2.2) (1.2.2)\n",
      "Requirement already satisfied: scipy in /home/hp/Documents/projects/pinecone-hack/venv/lib/python3.11/site-packages (from sentence-transformers==2.2.2) (1.10.1)\n",
      "Requirement already satisfied: sentencepiece in /home/hp/Documents/projects/pinecone-hack/venv/lib/python3.11/site-packages (from sentence-transformers==2.2.2) (0.1.99)\n",
      "Requirement already satisfied: torch>=1.6.0 in /home/hp/Documents/projects/pinecone-hack/venv/lib/python3.11/site-packages (from sentence-transformers==2.2.2) (2.0.1)\n",
      "Requirement already satisfied: torchvision in /home/hp/Documents/projects/pinecone-hack/venv/lib/python3.11/site-packages (from sentence-transformers==2.2.2) (0.15.2)\n",
      "Requirement already satisfied: transformers<5.0.0,>=4.6.0 in /home/hp/Documents/projects/pinecone-hack/venv/lib/python3.11/site-packages (from sentence-transformers==2.2.2) (4.30.2)\n",
      "Requirement already satisfied: attrs>=17.3.0 in /home/hp/Documents/projects/pinecone-hack/venv/lib/python3.11/site-packages (from aiohttp->datasets==2.12.0) (23.1.0)\n",
      "Requirement already satisfied: charset-normalizer<4.0,>=2.0 in /home/hp/Documents/projects/pinecone-hack/venv/lib/python3.11/site-packages (from aiohttp->datasets==2.12.0) (3.1.0)\n",
      "Requirement already satisfied: multidict<7.0,>=4.5 in /home/hp/Documents/projects/pinecone-hack/venv/lib/python3.11/site-packages (from aiohttp->datasets==2.12.0) (6.0.4)\n",
      "Requirement already satisfied: async-timeout<5.0,>=4.0.0a3 in /home/hp/Documents/projects/pinecone-hack/venv/lib/python3.11/site-packages (from aiohttp->datasets==2.12.0) (4.0.2)\n",
      "Requirement already satisfied: yarl<2.0,>=1.0 in /home/hp/Documents/projects/pinecone-hack/venv/lib/python3.11/site-packages (from aiohttp->datasets==2.12.0) (1.9.2)\n",
      "Requirement already satisfied: frozenlist>=1.1.1 in /home/hp/Documents/projects/pinecone-hack/venv/lib/python3.11/site-packages (from aiohttp->datasets==2.12.0) (1.3.3)\n",
      "Requirement already satisfied: aiosignal>=1.1.2 in /home/hp/Documents/projects/pinecone-hack/venv/lib/python3.11/site-packages (from aiohttp->datasets==2.12.0) (1.3.1)\n",
      "Requirement already satisfied: filelock in /home/hp/Documents/projects/pinecone-hack/venv/lib/python3.11/site-packages (from huggingface-hub<1.0.0,>=0.11.0->datasets==2.12.0) (3.12.2)\n",
      "Requirement already satisfied: six>=1.5 in /home/hp/Documents/projects/pinecone-hack/venv/lib/python3.11/site-packages (from python-dateutil>=2.5.3->pinecone-client[grpc]==2.2.1) (1.16.0)\n",
      "Requirement already satisfied: idna<4,>=2.5 in /home/hp/Documents/projects/pinecone-hack/venv/lib/python3.11/site-packages (from requests>=2.19.0->pinecone-client[grpc]==2.2.1) (3.4)\n",
      "Requirement already satisfied: certifi>=2017.4.17 in /home/hp/Documents/projects/pinecone-hack/venv/lib/python3.11/site-packages (from requests>=2.19.0->pinecone-client[grpc]==2.2.1) (2023.5.7)\n",
      "Requirement already satisfied: sympy in /home/hp/Documents/projects/pinecone-hack/venv/lib/python3.11/site-packages (from torch>=1.6.0->sentence-transformers==2.2.2) (1.12)\n",
      "Requirement already satisfied: networkx in /home/hp/Documents/projects/pinecone-hack/venv/lib/python3.11/site-packages (from torch>=1.6.0->sentence-transformers==2.2.2) (3.1)\n",
      "Requirement already satisfied: jinja2 in /home/hp/Documents/projects/pinecone-hack/venv/lib/python3.11/site-packages (from torch>=1.6.0->sentence-transformers==2.2.2) (3.1.2)\n",
      "Requirement already satisfied: nvidia-cuda-nvrtc-cu11==11.7.99 in /home/hp/Documents/projects/pinecone-hack/venv/lib/python3.11/site-packages (from torch>=1.6.0->sentence-transformers==2.2.2) (11.7.99)\n",
      "Requirement already satisfied: nvidia-cuda-runtime-cu11==11.7.99 in /home/hp/Documents/projects/pinecone-hack/venv/lib/python3.11/site-packages (from torch>=1.6.0->sentence-transformers==2.2.2) (11.7.99)\n",
      "Requirement already satisfied: nvidia-cuda-cupti-cu11==11.7.101 in /home/hp/Documents/projects/pinecone-hack/venv/lib/python3.11/site-packages (from torch>=1.6.0->sentence-transformers==2.2.2) (11.7.101)\n",
      "Requirement already satisfied: nvidia-cudnn-cu11==8.5.0.96 in /home/hp/Documents/projects/pinecone-hack/venv/lib/python3.11/site-packages (from torch>=1.6.0->sentence-transformers==2.2.2) (8.5.0.96)\n",
      "Requirement already satisfied: nvidia-cublas-cu11==11.10.3.66 in /home/hp/Documents/projects/pinecone-hack/venv/lib/python3.11/site-packages (from torch>=1.6.0->sentence-transformers==2.2.2) (11.10.3.66)\n",
      "Requirement already satisfied: nvidia-cufft-cu11==10.9.0.58 in /home/hp/Documents/projects/pinecone-hack/venv/lib/python3.11/site-packages (from torch>=1.6.0->sentence-transformers==2.2.2) (10.9.0.58)\n",
      "Requirement already satisfied: nvidia-curand-cu11==10.2.10.91 in /home/hp/Documents/projects/pinecone-hack/venv/lib/python3.11/site-packages (from torch>=1.6.0->sentence-transformers==2.2.2) (10.2.10.91)\n",
      "Requirement already satisfied: nvidia-cusolver-cu11==11.4.0.1 in /home/hp/Documents/projects/pinecone-hack/venv/lib/python3.11/site-packages (from torch>=1.6.0->sentence-transformers==2.2.2) (11.4.0.1)\n",
      "Requirement already satisfied: nvidia-cusparse-cu11==11.7.4.91 in /home/hp/Documents/projects/pinecone-hack/venv/lib/python3.11/site-packages (from torch>=1.6.0->sentence-transformers==2.2.2) (11.7.4.91)\n",
      "Requirement already satisfied: nvidia-nccl-cu11==2.14.3 in /home/hp/Documents/projects/pinecone-hack/venv/lib/python3.11/site-packages (from torch>=1.6.0->sentence-transformers==2.2.2) (2.14.3)\n",
      "Requirement already satisfied: nvidia-nvtx-cu11==11.7.91 in /home/hp/Documents/projects/pinecone-hack/venv/lib/python3.11/site-packages (from torch>=1.6.0->sentence-transformers==2.2.2) (11.7.91)\n",
      "Requirement already satisfied: triton==2.0.0 in /home/hp/Documents/projects/pinecone-hack/venv/lib/python3.11/site-packages (from torch>=1.6.0->sentence-transformers==2.2.2) (2.0.0)\n",
      "Requirement already satisfied: setuptools in /home/hp/Documents/projects/pinecone-hack/venv/lib/python3.11/site-packages (from nvidia-cublas-cu11==11.10.3.66->torch>=1.6.0->sentence-transformers==2.2.2) (66.1.1)\n",
      "Requirement already satisfied: wheel in /home/hp/Documents/projects/pinecone-hack/venv/lib/python3.11/site-packages (from nvidia-cublas-cu11==11.10.3.66->torch>=1.6.0->sentence-transformers==2.2.2) (0.40.0)\n",
      "Requirement already satisfied: cmake in /home/hp/Documents/projects/pinecone-hack/venv/lib/python3.11/site-packages (from triton==2.0.0->torch>=1.6.0->sentence-transformers==2.2.2) (3.26.4)\n",
      "Requirement already satisfied: lit in /home/hp/Documents/projects/pinecone-hack/venv/lib/python3.11/site-packages (from triton==2.0.0->torch>=1.6.0->sentence-transformers==2.2.2) (16.0.6)\n",
      "Requirement already satisfied: regex!=2019.12.17 in /home/hp/Documents/projects/pinecone-hack/venv/lib/python3.11/site-packages (from transformers<5.0.0,>=4.6.0->sentence-transformers==2.2.2) (2023.6.3)\n",
      "Requirement already satisfied: tokenizers!=0.11.3,<0.14,>=0.11.1 in /home/hp/Documents/projects/pinecone-hack/venv/lib/python3.11/site-packages (from transformers<5.0.0,>=4.6.0->sentence-transformers==2.2.2) (0.13.3)\n",
      "Requirement already satisfied: safetensors>=0.3.1 in /home/hp/Documents/projects/pinecone-hack/venv/lib/python3.11/site-packages (from transformers<5.0.0,>=4.6.0->sentence-transformers==2.2.2) (0.3.1)\n",
      "Requirement already satisfied: click in /home/hp/Documents/projects/pinecone-hack/venv/lib/python3.11/site-packages (from nltk->sentence-transformers==2.2.2) (8.1.3)\n",
      "Requirement already satisfied: joblib in /home/hp/Documents/projects/pinecone-hack/venv/lib/python3.11/site-packages (from nltk->sentence-transformers==2.2.2) (1.2.0)\n",
      "Requirement already satisfied: pytz>=2020.1 in /home/hp/Documents/projects/pinecone-hack/venv/lib/python3.11/site-packages (from pandas->datasets==2.12.0) (2023.3)\n",
      "Requirement already satisfied: tzdata>=2022.1 in /home/hp/Documents/projects/pinecone-hack/venv/lib/python3.11/site-packages (from pandas->datasets==2.12.0) (2023.3)\n",
      "Requirement already satisfied: threadpoolctl>=2.0.0 in /home/hp/Documents/projects/pinecone-hack/venv/lib/python3.11/site-packages (from scikit-learn->sentence-transformers==2.2.2) (3.1.0)\n",
      "Requirement already satisfied: pillow!=8.3.*,>=5.3.0 in /home/hp/Documents/projects/pinecone-hack/venv/lib/python3.11/site-packages (from torchvision->sentence-transformers==2.2.2) (9.5.0)\n",
      "Requirement already satisfied: MarkupSafe>=2.0 in /home/hp/Documents/projects/pinecone-hack/venv/lib/python3.11/site-packages (from jinja2->torch>=1.6.0->sentence-transformers==2.2.2) (2.1.3)\n",
      "Requirement already satisfied: mpmath>=0.19 in /home/hp/Documents/projects/pinecone-hack/venv/lib/python3.11/site-packages (from sympy->torch>=1.6.0->sentence-transformers==2.2.2) (1.3.0)\n",
      "Note: you may need to restart the kernel to use updated packages.\n"
     ]
    }
   ],
   "source": [
    "%pip install \"pinecone-client[grpc]\"==2.2.1 \\\n",
    "  datasets==2.12.0 \\\n",
    "  sentence-transformers==2.2.2"
   ]
  },
  {
   "cell_type": "code",
   "execution_count": 5,
   "metadata": {},
   "outputs": [],
   "source": [
    "import pinecone\n",
    "import os\n",
    "\n",
    "%load_ext dotenv\n",
    "%dotenv\n",
    "\n",
    "# Load Pinecone API key\n",
    "api_key = os.getenv('PINECONE_API_KEY')\n",
    "\n",
    "pinecone.init(\n",
    "    api_key=api_key,\n",
    "    environment=\"northamerica-northeast1-gcp\"  # find next to API key in console\n",
    ")"
   ]
  },
  {
   "attachments": {},
   "cell_type": "markdown",
   "metadata": {},
   "source": [
    "# Read Quora dataset from huggingface"
   ]
  },
  {
   "cell_type": "code",
   "execution_count": 6,
   "metadata": {},
   "outputs": [
    {
     "name": "stderr",
     "output_type": "stream",
     "text": [
      "Found cached dataset quora (/home/hp/.cache/huggingface/datasets/quora/default/0.0.0/36ba4cd42107f051a158016f1bea6ae3f4685c5df843529108a54e42d86c1e04)\n"
     ]
    },
    {
     "data": {
      "text/plain": [
       "Dataset({\n",
       "    features: ['questions', 'is_duplicate'],\n",
       "    num_rows: 80000\n",
       "})"
      ]
     },
     "execution_count": 6,
     "metadata": {},
     "output_type": "execute_result"
    }
   ],
   "source": [
    "from datasets import load_dataset\n",
    "\n",
    "dataset = load_dataset('quora', split='train[240000:320000]')\n",
    "dataset"
   ]
  },
  {
   "attachments": {},
   "cell_type": "markdown",
   "metadata": {},
   "source": [
    "Extract questions"
   ]
  },
  {
   "cell_type": "code",
   "execution_count": 7,
   "metadata": {},
   "outputs": [
    {
     "name": "stdout",
     "output_type": "stream",
     "text": [
      "Will Obama go down in history as a great president?\n",
      "What if hitler won the war?\n",
      "Do younger girls care about how ripped their boyfriend is?\n",
      "How was the Alioth star named?\n",
      "How can I learn to hack seriously?\n",
      "136057\n"
     ]
    }
   ],
   "source": [
    "questions = []\n",
    "\n",
    "for record in dataset['questions']:\n",
    "    questions.extend(record['text'])\n",
    "\n",
    "# Clear duplicates\n",
    "questions = list(set(questions))\n",
    "print('\\n'.join(questions[:5]))\n",
    "print(len(questions))"
   ]
  },
  {
   "attachments": {},
   "cell_type": "markdown",
   "metadata": {},
   "source": [
    "# Build embeddings with `all-MiniLM-L6-v2` model from sentence_transformers\n",
    "\n",
    "This will convert questions into a set of vectors. `all-MiniLM-L6-v2` is a sentence transformer library."
   ]
  },
  {
   "cell_type": "code",
   "execution_count": 8,
   "metadata": {},
   "outputs": [
    {
     "data": {
      "text/plain": [
       "SentenceTransformer(\n",
       "  (0): Transformer({'max_seq_length': 256, 'do_lower_case': False}) with Transformer model: BertModel \n",
       "  (1): Pooling({'word_embedding_dimension': 384, 'pooling_mode_cls_token': False, 'pooling_mode_mean_tokens': True, 'pooling_mode_max_tokens': False, 'pooling_mode_mean_sqrt_len_tokens': False})\n",
       "  (2): Normalize()\n",
       ")"
      ]
     },
     "execution_count": 8,
     "metadata": {},
     "output_type": "execute_result"
    }
   ],
   "source": [
    "from sentence_transformers import SentenceTransformer\n",
    "import torch\n",
    "\n",
    "device = 'cuda' if torch.cuda.is_available() else 'cpu'\n",
    "if device != 'cuda':\n",
    "    print(\"CUDA unavilable, using CPU\")\n",
    "\n",
    "model = SentenceTransformer('all-MiniLM-L6-v2', device = device)\n",
    "model\n"
   ]
  },
  {
   "attachments": {},
   "cell_type": "markdown",
   "metadata": {},
   "source": [
    "SentenceTransformer params:\n",
    "1. `max_seq_length = 256`: Max tokens that can be encoded. The rest is truncated\n",
    "2. `word_embedding_dimension = 384`: Generates a 384 dimension vector"
   ]
  },
  {
   "attachments": {},
   "cell_type": "markdown",
   "metadata": {},
   "source": [
    "## Create a new Pinecone index and populate it with transformed questions"
   ]
  },
  {
   "cell_type": "code",
   "execution_count": 15,
   "metadata": {},
   "outputs": [
    {
     "name": "stderr",
     "output_type": "stream",
     "text": [
      "100%|██████████| 1063/1063 [20:14<00:00,  1.14s/it]\n"
     ]
    },
    {
     "data": {
      "text/plain": [
       "{'dimension': 384,\n",
       " 'index_fullness': 0.1,\n",
       " 'namespaces': {'': {'vector_count': 136057}},\n",
       " 'total_vector_count': 136057}"
      ]
     },
     "execution_count": 15,
     "metadata": {},
     "output_type": "execute_result"
    }
   ],
   "source": [
    "from tqdm.auto import tqdm\n",
    "\n",
    "index_name = 'semantic-search'\n",
    "\n",
    "if index_name not in pinecone.list_indexes():\n",
    "  pinecone.create_index(\n",
    "    name = index_name,\n",
    "    dimension = model.get_sentence_embedding_dimension(),\n",
    "    metric = 'cosine'\n",
    "  )\n",
    "\n",
    "index = pinecone.GRPCIndex(index_name)\n",
    "\n",
    "# Upsert\n",
    "\n",
    "batch_size = 128\n",
    "\n",
    "for i in tqdm(range(0, len(questions), batch_size)):\n",
    "    # find end of batch\n",
    "    i_end = min(i+batch_size, len(questions))\n",
    "    # create IDs batch\n",
    "    ids = [str(x) for x in range(i, i_end)]\n",
    "    # create metadata batch- we store the question in metadata\n",
    "    metadatas = [{'text': text} for text in questions[i:i_end]]\n",
    "\n",
    "    # create embeddings with SentenceTransformer\n",
    "    xc = model.encode(questions[i:i_end])\n",
    "    \n",
    "    # create records list for upsert\n",
    "    records = zip(ids, xc, metadatas)\n",
    "    # upsert to Pinecone\n",
    "    index.upsert(vectors=records)\n",
    "\n",
    "# check number of records in the index\n",
    "index.describe_index_stats()"
   ]
  },
  {
   "attachments": {},
   "cell_type": "markdown",
   "metadata": {},
   "source": [
    "## Time to query"
   ]
  },
  {
   "cell_type": "code",
   "execution_count": 17,
   "metadata": {},
   "outputs": [
    {
     "name": "stdout",
     "output_type": "stream",
     "text": [
      "0.8286282: Which is the worst place to live in the world?\n",
      "0.81821454: What is the worst place in the world to live?\n",
      "0.7996257: Which are the worst cities of India?\n",
      "0.7930561: What are the most dangerous cities in the world?\n",
      "0.76766825: Which is the top worst country in the world?\n"
     ]
    }
   ],
   "source": [
    "query = 'which is the worst city in the world?'\n",
    "\n",
    "# xq- transformed query\n",
    "xq = model.encode(query).tolist()\n",
    "\n",
    "xc = index.query(xq, top_k=5, include_metadata=True)\n",
    "\n",
    "for result in xc['matches']:\n",
    "    print(f\"{result['score']}: {result['metadata']['text']}\")"
   ]
  }
 ],
 "metadata": {
  "kernelspec": {
   "display_name": "venv",
   "language": "python",
   "name": "python3"
  },
  "language_info": {
   "codemirror_mode": {
    "name": "ipython",
    "version": 3
   },
   "file_extension": ".py",
   "mimetype": "text/x-python",
   "name": "python",
   "nbconvert_exporter": "python",
   "pygments_lexer": "ipython3",
   "version": "3.11.2"
  },
  "orig_nbformat": 4
 },
 "nbformat": 4,
 "nbformat_minor": 2
}
